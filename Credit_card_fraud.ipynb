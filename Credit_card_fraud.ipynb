{
  "nbformat": 4,
  "nbformat_minor": 0,
  "metadata": {
    "colab": {
      "provenance": []
    },
    "kernelspec": {
      "name": "python3",
      "display_name": "Python 3"
    },
    "language_info": {
      "name": "python"
    }
  },
  "cells": [
    {
      "cell_type": "markdown",
      "source": [
        "# **Predict Credit Card Fraud**\n",
        "\n",
        "Credit card fraud is one of the leading causes of identify theft around the world. In 2018 alone, over $24 billion were stolen through fraudulent credit card transactions. Financial institutions employ a wide variety of different techniques to prevent fraud, one of the most common being Logistic Regression.\n",
        "\n",
        "In this project, I will work on the dataset (based on a synthetic financial dataset), that represents a typical set of credit card transactions. transactions.csv is the original dataset which contains one thousand transactions. My goal is to use Logistic Regression and create a predictive model to determine if a transaction is fraudulent or not."
      ],
      "metadata": {
        "id": "11Rpj3XeeLo-"
      }
    },
    {
      "cell_type": "code",
      "execution_count": 22,
      "metadata": {
        "id": "hlOC4IhpdiA7"
      },
      "outputs": [],
      "source": [
        "import pandas as pd\n",
        "import numpy as np\n",
        "import matplotlib.pyplot as plt\n",
        "import seaborn as sns\n",
        "import sklearn\n",
        "from sklearn.model_selection import train_test_split\n",
        "from sklearn.linear_model import LinearRegression\n",
        "from sklearn.metrics import mean_squared_error, r2_score\n"
      ]
    },
    {
      "cell_type": "code",
      "source": [
        "# prompt: upload file\n",
        "\n",
        "from google.colab import files\n",
        "\n",
        "uploaded = files.upload()\n",
        "\n",
        "for fn in uploaded.keys():\n",
        "  print('User uploaded file \"{name}\" with length {length} bytes'.format(\n",
        "      name=fn, length=len(uploaded[fn])))"
      ],
      "metadata": {
        "colab": {
          "base_uri": "https://localhost:8080/",
          "height": 91
        },
        "id": "9MWiU-c2dpGf",
        "outputId": "8ccca4ec-00e7-41b4-db99-e04a97f10145"
      },
      "execution_count": 4,
      "outputs": [
        {
          "output_type": "display_data",
          "data": {
            "text/plain": [
              "<IPython.core.display.HTML object>"
            ],
            "text/html": [
              "\n",
              "     <input type=\"file\" id=\"files-b41efca0-222f-4e88-afe0-98e8c597a7a9\" name=\"files[]\" multiple disabled\n",
              "        style=\"border:none\" />\n",
              "     <output id=\"result-b41efca0-222f-4e88-afe0-98e8c597a7a9\">\n",
              "      Upload widget is only available when the cell has been executed in the\n",
              "      current browser session. Please rerun this cell to enable.\n",
              "      </output>\n",
              "      <script>// Copyright 2017 Google LLC\n",
              "//\n",
              "// Licensed under the Apache License, Version 2.0 (the \"License\");\n",
              "// you may not use this file except in compliance with the License.\n",
              "// You may obtain a copy of the License at\n",
              "//\n",
              "//      http://www.apache.org/licenses/LICENSE-2.0\n",
              "//\n",
              "// Unless required by applicable law or agreed to in writing, software\n",
              "// distributed under the License is distributed on an \"AS IS\" BASIS,\n",
              "// WITHOUT WARRANTIES OR CONDITIONS OF ANY KIND, either express or implied.\n",
              "// See the License for the specific language governing permissions and\n",
              "// limitations under the License.\n",
              "\n",
              "/**\n",
              " * @fileoverview Helpers for google.colab Python module.\n",
              " */\n",
              "(function(scope) {\n",
              "function span(text, styleAttributes = {}) {\n",
              "  const element = document.createElement('span');\n",
              "  element.textContent = text;\n",
              "  for (const key of Object.keys(styleAttributes)) {\n",
              "    element.style[key] = styleAttributes[key];\n",
              "  }\n",
              "  return element;\n",
              "}\n",
              "\n",
              "// Max number of bytes which will be uploaded at a time.\n",
              "const MAX_PAYLOAD_SIZE = 100 * 1024;\n",
              "\n",
              "function _uploadFiles(inputId, outputId) {\n",
              "  const steps = uploadFilesStep(inputId, outputId);\n",
              "  const outputElement = document.getElementById(outputId);\n",
              "  // Cache steps on the outputElement to make it available for the next call\n",
              "  // to uploadFilesContinue from Python.\n",
              "  outputElement.steps = steps;\n",
              "\n",
              "  return _uploadFilesContinue(outputId);\n",
              "}\n",
              "\n",
              "// This is roughly an async generator (not supported in the browser yet),\n",
              "// where there are multiple asynchronous steps and the Python side is going\n",
              "// to poll for completion of each step.\n",
              "// This uses a Promise to block the python side on completion of each step,\n",
              "// then passes the result of the previous step as the input to the next step.\n",
              "function _uploadFilesContinue(outputId) {\n",
              "  const outputElement = document.getElementById(outputId);\n",
              "  const steps = outputElement.steps;\n",
              "\n",
              "  const next = steps.next(outputElement.lastPromiseValue);\n",
              "  return Promise.resolve(next.value.promise).then((value) => {\n",
              "    // Cache the last promise value to make it available to the next\n",
              "    // step of the generator.\n",
              "    outputElement.lastPromiseValue = value;\n",
              "    return next.value.response;\n",
              "  });\n",
              "}\n",
              "\n",
              "/**\n",
              " * Generator function which is called between each async step of the upload\n",
              " * process.\n",
              " * @param {string} inputId Element ID of the input file picker element.\n",
              " * @param {string} outputId Element ID of the output display.\n",
              " * @return {!Iterable<!Object>} Iterable of next steps.\n",
              " */\n",
              "function* uploadFilesStep(inputId, outputId) {\n",
              "  const inputElement = document.getElementById(inputId);\n",
              "  inputElement.disabled = false;\n",
              "\n",
              "  const outputElement = document.getElementById(outputId);\n",
              "  outputElement.innerHTML = '';\n",
              "\n",
              "  const pickedPromise = new Promise((resolve) => {\n",
              "    inputElement.addEventListener('change', (e) => {\n",
              "      resolve(e.target.files);\n",
              "    });\n",
              "  });\n",
              "\n",
              "  const cancel = document.createElement('button');\n",
              "  inputElement.parentElement.appendChild(cancel);\n",
              "  cancel.textContent = 'Cancel upload';\n",
              "  const cancelPromise = new Promise((resolve) => {\n",
              "    cancel.onclick = () => {\n",
              "      resolve(null);\n",
              "    };\n",
              "  });\n",
              "\n",
              "  // Wait for the user to pick the files.\n",
              "  const files = yield {\n",
              "    promise: Promise.race([pickedPromise, cancelPromise]),\n",
              "    response: {\n",
              "      action: 'starting',\n",
              "    }\n",
              "  };\n",
              "\n",
              "  cancel.remove();\n",
              "\n",
              "  // Disable the input element since further picks are not allowed.\n",
              "  inputElement.disabled = true;\n",
              "\n",
              "  if (!files) {\n",
              "    return {\n",
              "      response: {\n",
              "        action: 'complete',\n",
              "      }\n",
              "    };\n",
              "  }\n",
              "\n",
              "  for (const file of files) {\n",
              "    const li = document.createElement('li');\n",
              "    li.append(span(file.name, {fontWeight: 'bold'}));\n",
              "    li.append(span(\n",
              "        `(${file.type || 'n/a'}) - ${file.size} bytes, ` +\n",
              "        `last modified: ${\n",
              "            file.lastModifiedDate ? file.lastModifiedDate.toLocaleDateString() :\n",
              "                                    'n/a'} - `));\n",
              "    const percent = span('0% done');\n",
              "    li.appendChild(percent);\n",
              "\n",
              "    outputElement.appendChild(li);\n",
              "\n",
              "    const fileDataPromise = new Promise((resolve) => {\n",
              "      const reader = new FileReader();\n",
              "      reader.onload = (e) => {\n",
              "        resolve(e.target.result);\n",
              "      };\n",
              "      reader.readAsArrayBuffer(file);\n",
              "    });\n",
              "    // Wait for the data to be ready.\n",
              "    let fileData = yield {\n",
              "      promise: fileDataPromise,\n",
              "      response: {\n",
              "        action: 'continue',\n",
              "      }\n",
              "    };\n",
              "\n",
              "    // Use a chunked sending to avoid message size limits. See b/62115660.\n",
              "    let position = 0;\n",
              "    do {\n",
              "      const length = Math.min(fileData.byteLength - position, MAX_PAYLOAD_SIZE);\n",
              "      const chunk = new Uint8Array(fileData, position, length);\n",
              "      position += length;\n",
              "\n",
              "      const base64 = btoa(String.fromCharCode.apply(null, chunk));\n",
              "      yield {\n",
              "        response: {\n",
              "          action: 'append',\n",
              "          file: file.name,\n",
              "          data: base64,\n",
              "        },\n",
              "      };\n",
              "\n",
              "      let percentDone = fileData.byteLength === 0 ?\n",
              "          100 :\n",
              "          Math.round((position / fileData.byteLength) * 100);\n",
              "      percent.textContent = `${percentDone}% done`;\n",
              "\n",
              "    } while (position < fileData.byteLength);\n",
              "  }\n",
              "\n",
              "  // All done.\n",
              "  yield {\n",
              "    response: {\n",
              "      action: 'complete',\n",
              "    }\n",
              "  };\n",
              "}\n",
              "\n",
              "scope.google = scope.google || {};\n",
              "scope.google.colab = scope.google.colab || {};\n",
              "scope.google.colab._files = {\n",
              "  _uploadFiles,\n",
              "  _uploadFilesContinue,\n",
              "};\n",
              "})(self);\n",
              "</script> "
            ]
          },
          "metadata": {}
        },
        {
          "output_type": "stream",
          "name": "stdout",
          "text": [
            "Saving transactions.csv to transactions.csv\n",
            "User uploaded file \"transactions.csv\" with length 85135 bytes\n"
          ]
        }
      ]
    },
    {
      "cell_type": "code",
      "source": [
        "transactions = pd.read_csv('transactions.csv')"
      ],
      "metadata": {
        "id": "ep0ZzNKFdu6D"
      },
      "execution_count": 5,
      "outputs": []
    },
    {
      "cell_type": "markdown",
      "source": [
        "# **Explorative Data Analysis**"
      ],
      "metadata": {
        "id": "63J6NvxjenFO"
      }
    },
    {
      "cell_type": "code",
      "source": [
        "print(transactions.head())"
      ],
      "metadata": {
        "colab": {
          "base_uri": "https://localhost:8080/"
        },
        "id": "ATf2Fk3bd6h9",
        "outputId": "16d44521-1eb8-45a8-eb04-44dac74b7d7c"
      },
      "execution_count": 6,
      "outputs": [
        {
          "output_type": "stream",
          "name": "stdout",
          "text": [
            "   step      type      amount     nameOrig  oldbalanceOrg  newbalanceOrig  \\\n",
            "0   206  CASH_OUT    62927.08   C473782114           0.00            0.00   \n",
            "1   380   PAYMENT    32851.57  C1915112886           0.00            0.00   \n",
            "2   570  CASH_OUT  1131750.38  C1396198422     1131750.38            0.00   \n",
            "3   184  CASH_OUT    60519.74   C982551468       60519.74            0.00   \n",
            "4   162   CASH_IN    46716.01  C1759889425     7668050.60      7714766.61   \n",
            "\n",
            "      nameDest  oldbalanceDest  newbalanceDest  isFraud  isPayment  \\\n",
            "0  C2096898696       649420.67       712347.75        0          0   \n",
            "1   M916879292            0.00            0.00        0          1   \n",
            "2  C1612235515       313070.53      1444820.92        1          0   \n",
            "3  C1378644910        54295.32       182654.50        1          0   \n",
            "4  C2059152908      2125468.75      2078752.75        0          0   \n",
            "\n",
            "   isMovement  accountDiff  \n",
            "0           1    649420.67  \n",
            "1           0         0.00  \n",
            "2           1    818679.85  \n",
            "3           1      6224.42  \n",
            "4           0   5542581.85  \n"
          ]
        }
      ]
    },
    {
      "cell_type": "markdown",
      "source": [
        "Here are some interpretations of columns:\n",
        "\n",
        "isPayment: assigns a 1 when type is “PAYMENT” or “DEBIT”, and a 0 otherwise\n",
        "\n",
        "isMovement: captures if money moved out of the origin account. This column will have a value of 1 when type is either “CASH_OUT” or “TRANSFER”, and a 0 otherwise.\n",
        "\n",
        "accountDiff: the absolute difference of the oldbalanceOrg and oldbalanceDest columns. With financial fraud, another key factor to investigate would be the difference in value between the origin and destination account. Our theory, in this case, being that destination accounts with a significantly different value could be suspect of fraud.\n"
      ],
      "metadata": {
        "id": "XZaBmshZm9Vu"
      }
    },
    {
      "cell_type": "code",
      "source": [
        "transactions.info()"
      ],
      "metadata": {
        "colab": {
          "base_uri": "https://localhost:8080/"
        },
        "id": "gNPJoRZ5ex5j",
        "outputId": "fe7ba931-8a8c-43bc-e585-c596ed892323"
      },
      "execution_count": 7,
      "outputs": [
        {
          "output_type": "stream",
          "name": "stdout",
          "text": [
            "<class 'pandas.core.frame.DataFrame'>\n",
            "RangeIndex: 1000 entries, 0 to 999\n",
            "Data columns (total 13 columns):\n",
            " #   Column          Non-Null Count  Dtype  \n",
            "---  ------          --------------  -----  \n",
            " 0   step            1000 non-null   int64  \n",
            " 1   type            1000 non-null   object \n",
            " 2   amount          1000 non-null   float64\n",
            " 3   nameOrig        1000 non-null   object \n",
            " 4   oldbalanceOrg   1000 non-null   float64\n",
            " 5   newbalanceOrig  1000 non-null   float64\n",
            " 6   nameDest        1000 non-null   object \n",
            " 7   oldbalanceDest  1000 non-null   float64\n",
            " 8   newbalanceDest  1000 non-null   float64\n",
            " 9   isFraud         1000 non-null   int64  \n",
            " 10  isPayment       1000 non-null   int64  \n",
            " 11  isMovement      1000 non-null   int64  \n",
            " 12  accountDiff     1000 non-null   float64\n",
            "dtypes: float64(6), int64(4), object(3)\n",
            "memory usage: 101.7+ KB\n"
          ]
        }
      ]
    },
    {
      "cell_type": "markdown",
      "source": [
        "It appears that there is no missing data. We can further explore descriptive analysis"
      ],
      "metadata": {
        "id": "PYlHabqee6L5"
      }
    },
    {
      "cell_type": "code",
      "source": [
        "print(transactions.describe())"
      ],
      "metadata": {
        "colab": {
          "base_uri": "https://localhost:8080/"
        },
        "id": "dWG6ehZte2w8",
        "outputId": "ed6e187f-e6d4-4368-8abc-598a1adb0eb1"
      },
      "execution_count": 9,
      "outputs": [
        {
          "output_type": "stream",
          "name": "stdout",
          "text": [
            "              step        amount  oldbalanceOrg  newbalanceOrig  \\\n",
            "count  1000.000000  1.000000e+03   1.000000e+03    1.000000e+03   \n",
            "mean    280.664000  5.373080e+05   1.049284e+06    6.376146e+05   \n",
            "std     167.174593  1.423692e+06   3.226500e+06    2.717351e+06   \n",
            "min       1.000000  0.000000e+00   0.000000e+00    0.000000e+00   \n",
            "25%     164.000000  2.933705e+04   1.287500e+02    0.000000e+00   \n",
            "50%     261.000000  1.265305e+05   4.371400e+04    0.000000e+00   \n",
            "75%     373.250000  3.010378e+05   4.080914e+05    3.795663e+04   \n",
            "max     741.000000  1.000000e+07   5.039905e+07    4.039905e+07   \n",
            "\n",
            "       oldbalanceDest  newbalanceDest      isFraud    isPayment   isMovement  \\\n",
            "count    1.000000e+03    1.000000e+03  1000.000000  1000.000000  1000.000000   \n",
            "mean     1.028848e+06    1.302326e+06     0.282000     0.220000     0.605000   \n",
            "std      2.678541e+06    3.038042e+06     0.450198     0.414454     0.489095   \n",
            "min      0.000000e+00    0.000000e+00     0.000000     0.000000     0.000000   \n",
            "25%      0.000000e+00    0.000000e+00     0.000000     0.000000     0.000000   \n",
            "50%      3.881927e+04    1.956572e+05     0.000000     0.000000     1.000000   \n",
            "75%      7.747167e+05    1.185959e+06     1.000000     0.000000     1.000000   \n",
            "max      3.085651e+07    3.183962e+07     1.000000     1.000000     1.000000   \n",
            "\n",
            "        accountDiff  \n",
            "count  1.000000e+03  \n",
            "mean   1.744828e+06  \n",
            "std    3.792962e+06  \n",
            "min    0.000000e+00  \n",
            "25%    4.273675e+04  \n",
            "50%    3.383816e+05  \n",
            "75%    1.759913e+06  \n",
            "max    5.039905e+07  \n"
          ]
        }
      ]
    },
    {
      "cell_type": "code",
      "source": [
        "transactions.columns"
      ],
      "metadata": {
        "colab": {
          "base_uri": "https://localhost:8080/"
        },
        "id": "SRM9gevxfE_y",
        "outputId": "0dadd93c-9ef1-4a5a-fb21-00062c75e8c0"
      },
      "execution_count": 10,
      "outputs": [
        {
          "output_type": "execute_result",
          "data": {
            "text/plain": [
              "Index(['step', 'type', 'amount', 'nameOrig', 'oldbalanceOrg', 'newbalanceOrig',\n",
              "       'nameDest', 'oldbalanceDest', 'newbalanceDest', 'isFraud', 'isPayment',\n",
              "       'isMovement', 'accountDiff'],\n",
              "      dtype='object')"
            ]
          },
          "metadata": {},
          "execution_count": 10
        }
      ]
    },
    {
      "cell_type": "markdown",
      "source": [
        "Let's see how many fraudulant transactions are recorded"
      ],
      "metadata": {
        "id": "f2ayC8GrfziY"
      }
    },
    {
      "cell_type": "code",
      "source": [
        "print('total fraudulant transactions: ', np.sum(transactions['isFraud']))"
      ],
      "metadata": {
        "colab": {
          "base_uri": "https://localhost:8080/"
        },
        "id": "ENC0eLI6fU-P",
        "outputId": "8d07b197-1d35-45e7-f860-0fbd4744e180"
      },
      "execution_count": 11,
      "outputs": [
        {
          "output_type": "stream",
          "name": "stdout",
          "text": [
            "total fraudulant transactions:  282\n"
          ]
        }
      ]
    },
    {
      "cell_type": "code",
      "source": [
        "sns.boxplot(x='type', y='amount', data=transactions, palette = 'Set2')\n",
        "plt.show();"
      ],
      "metadata": {
        "colab": {
          "base_uri": "https://localhost:8080/",
          "height": 557
        },
        "id": "Mbxx-4KHgGsA",
        "outputId": "d3bed328-8b72-482c-9874-52d40e8dcbde"
      },
      "execution_count": 16,
      "outputs": [
        {
          "output_type": "stream",
          "name": "stderr",
          "text": [
            "<ipython-input-16-321595198ab8>:1: FutureWarning: \n",
            "\n",
            "Passing `palette` without assigning `hue` is deprecated and will be removed in v0.14.0. Assign the `x` variable to `hue` and set `legend=False` for the same effect.\n",
            "\n",
            "  sns.boxplot(x='type', y='amount', data=transactions, palette = 'Set2')\n"
          ]
        },
        {
          "output_type": "display_data",
          "data": {
            "text/plain": [
              "<Figure size 640x480 with 1 Axes>"
            ],
            "image/png": "[encoded data removed]"
          },
          "metadata": {}
        }
      ]
    },
    {
      "cell_type": "markdown",
      "source": [
        "Comparing Transaction Types:\n",
        "\n",
        "'TRANSFER' and 'CASH_OUT' transactions tend to have higher median amounts compared to other types like 'PAYMENT' and 'DEBIT'.\n",
        "\n",
        "'TRANSFER' transactions exhibit a wider IQR, indicating greater variability in transaction amounts compared to other types.\n",
        "\n",
        "Several outliers are observed for 'TRANSFER' and 'CASH_OUT' transactions, suggesting potential fraudulent or unusual activity."
      ],
      "metadata": {
        "id": "5dryYf10iT9b"
      }
    },
    {
      "cell_type": "code",
      "source": [
        "# prompt: barplot on type\n",
        "\n",
        "sns.countplot(x='type', data=transactions)\n",
        "plt.show()"
      ],
      "metadata": {
        "colab": {
          "base_uri": "https://localhost:8080/",
          "height": 449
        },
        "id": "4yAtmla9jScK",
        "outputId": "2da268ed-244d-44c5-e583-de8545099ce4"
      },
      "execution_count": 19,
      "outputs": [
        {
          "output_type": "display_data",
          "data": {
            "text/plain": [
              "<Figure size 640x480 with 1 Axes>"
            ],
            "image/png": "[encoded data removed]"
          },
          "metadata": {}
        }
      ]
    },
    {
      "cell_type": "markdown",
      "source": [
        "We can see that most transactions are cash-out type. By combining the result from both bar plot and boxplot, we can see that while 'CASH_OUT' is the most frequent, 'TRANSFER' and 'CASH_OUT' transactions tend to involve larger amounts and have a higher potential for fraud due to the presence of outliers."
      ],
      "metadata": {
        "id": "uIiq7rtyjaDk"
      }
    },
    {
      "cell_type": "code",
      "source": [
        "plt.figure(figsize=(8, 6))\n",
        "sns.countplot(x='isFraud', data=transactions)\n",
        "plt.title('Distribution of Fraudulent Transactions')\n",
        "plt.xlabel('Is Fraud')\n",
        "plt.ylabel('Count')\n",
        "plt.show()"
      ],
      "metadata": {
        "colab": {
          "base_uri": "https://localhost:8080/",
          "height": 564
        },
        "id": "OdEZEkLjjA5X",
        "outputId": "0a7e2fc7-f831-4add-8e3c-518f9c63fc03"
      },
      "execution_count": 18,
      "outputs": [
        {
          "output_type": "display_data",
          "data": {
            "text/plain": [
              "<Figure size 800x600 with 1 Axes>"
            ],
            "image/png": "[encoded data removed]"
          },
          "metadata": {}
        }
      ]
    },
    {
      "cell_type": "markdown",
      "source": [
        "# **Select and Split data**\n",
        "\n",
        "Before we can start training our model, we need to define our features and label columns. Our label column in this dataset is the isFraud field.\n",
        "And features will be:\n",
        "\n",
        "amount\n",
        "\n",
        "isPayment\n",
        "\n",
        "isMovement\n",
        "\n",
        "accountDiff\n"
      ],
      "metadata": {
        "id": "46Omkogwn8Va"
      }
    },
    {
      "cell_type": "code",
      "source": [
        "features = transactions[['amount', 'isPayment', 'isMovement', 'accountDiff']]\n",
        "label = transactions['isFraud']"
      ],
      "metadata": {
        "id": "GXq5Jv4kjQQE"
      },
      "execution_count": 20,
      "outputs": []
    },
    {
      "cell_type": "code",
      "source": [
        "# prompt: split the dataset\n",
        "\n",
        "X_train, X_test, y_train, y_test = train_test_split(features, label, test_size=0.3, random_state=42)"
      ],
      "metadata": {
        "id": "GXopW24Hg4GE"
      },
      "execution_count": 23,
      "outputs": []
    },
    {
      "cell_type": "code",
      "source": [
        "from sklearn.preprocessing import StandardScaler\n",
        "\n",
        "# Create a StandardScaler object\n",
        "scaler = StandardScaler()\n",
        "\n",
        "# Fit the scaler on the training data and transform it\n",
        "X_train_scaled = scaler.fit_transform(X_train)\n",
        "\n",
        "# Transform the test data using the same scaler\n",
        "X_test_scaled = scaler.transform(X_test)"
      ],
      "metadata": {
        "id": "y-kma0fm7CRd"
      },
      "execution_count": 24,
      "outputs": []
    },
    {
      "cell_type": "code",
      "source": [
        "from sklearn.linear_model import LogisticRegression\n",
        "from sklearn.metrics import accuracy_score, classification_report, confusion_matrix\n",
        "\n",
        "\n",
        "# Create a logistic regression model\n",
        "model = LogisticRegression()\n",
        "\n",
        "# Train the model on the scaled training data\n",
        "model.fit(X_train_scaled, y_train)\n",
        "\n",
        "# Evaluate the model on the training set using the .score() method\n",
        "\n",
        "train_accuracy = model.score(X_train_scaled, y_train)\n",
        "print(\"Training Accuracy:\", train_accuracy)\n"
      ],
      "metadata": {
        "colab": {
          "base_uri": "https://localhost:8080/"
        },
        "id": "HBU5Omxs7VDZ",
        "outputId": "359edf6d-7569-4ec3-b8c6-6b21c581d016"
      },
      "execution_count": 25,
      "outputs": [
        {
          "output_type": "stream",
          "name": "stdout",
          "text": [
            "Training Accuracy: 0.8385714285714285\n"
          ]
        }
      ]
    },
    {
      "cell_type": "markdown",
      "source": [
        "It appears that the model classified transactions almost 84% accurately."
      ],
      "metadata": {
        "id": "aB3tNJOn8lat"
      }
    },
    {
      "cell_type": "code",
      "source": [
        "# Make predictions on the scaled test set\n",
        "y_pred = model.predict(X_test_scaled)\n",
        "\n",
        "# Evaluate the model on the test set\n",
        "test_accuracy = model.score(X_test_scaled, y_test)\n",
        "print(\"Test Accuracy:\", test_accuracy)"
      ],
      "metadata": {
        "colab": {
          "base_uri": "https://localhost:8080/"
        },
        "id": "icE9oS-f8cpn",
        "outputId": "391d6b8d-276a-4414-b7dc-9667c7a2c646"
      },
      "execution_count": 26,
      "outputs": [
        {
          "output_type": "stream",
          "name": "stdout",
          "text": [
            "Test Accuracy: 0.85\n"
          ]
        }
      ]
    },
    {
      "cell_type": "markdown",
      "source": [
        "Interpretation:\n",
        "\n",
        "Scoring the model on the test data will process the test data through the trained model and will predict which transactions are fraudulent. The score returned is the percentage of correct classifications, or the accuracy, and will be an indicator for the sucess of the model. Our model shows 85% of accuracy, which seems good. Now let's see which feature was the most important predictor"
      ],
      "metadata": {
        "id": "KB5Gtbqs9XPh"
      }
    },
    {
      "cell_type": "code",
      "source": [
        "# Get the coefficients and the corresponding feature names\n",
        "coefficients = model.coef_[0]\n",
        "feature_names = features.columns\n",
        "\n",
        "coef_df = pd.DataFrame({\n",
        "        'Feature': feature_names,\n",
        "        'Coefficient': coefficients\n",
        "    })\n",
        "\n",
        "print(coef_df)"
      ],
      "metadata": {
        "colab": {
          "base_uri": "https://localhost:8080/"
        },
        "id": "6ssQDnRf-cLQ",
        "outputId": "612e46a6-bcfd-4522-d23c-d91feabebeb8"
      },
      "execution_count": 30,
      "outputs": [
        {
          "output_type": "stream",
          "name": "stdout",
          "text": [
            "       Feature  Coefficient\n",
            "0       amount     2.421104\n",
            "1    isPayment    -0.610504\n",
            "2   isMovement     2.101479\n",
            "3  accountDiff    -0.987915\n"
          ]
        }
      ]
    },
    {
      "cell_type": "markdown",
      "source": [
        "amount : For each unit increase in the amount feature, the log odds of the predicted outcome increase by 2.42. This suggests that higher amount values are associated with a higher probability of the fraud\n",
        "\n",
        "isPayment: Being a \"payment\" (if transaction is a PAYMENT or DEBIT) decreases the log odds of the positive outcome by 0.61. This means that if a transaction is labeled as a payment, the probability of the fraud is lower.\n",
        "\n",
        "isMovement: If the transaction involves a CASH_OUT or TRANSFER, the log odds of the fraud increase by 2.10. This suggests that cash out or transfer is positively associated with the fraud.\n",
        "\n",
        "accountDiff: A higher difference between oldbalanceOrg and oldbalanceDest reduces the likelihood of the fraud by 0.99 on the log odds scale.\n",
        "\n",
        "The feature **amount** has the largest absolute coefficient (2.421104), meaning it is the strongest predictor in this model.\n",
        "\n",
        "In contrast, The feature **isPayment** has the smallest absolute coefficient (0.610504), meaning it is the weakest predictor in this model."
      ],
      "metadata": {
        "id": "r3d-bb8__D7Z"
      }
    },
    {
      "cell_type": "markdown",
      "source": [
        "Now let’s check our model to process more transactions. There are three numpy arrays for the experiment"
      ],
      "metadata": {
        "id": "9EEkU-hVBvGU"
      }
    },
    {
      "cell_type": "code",
      "source": [
        "# Sample data for prediction\n",
        "new_transactions = np.array([[1000, 1, 0, 100],  # Transaction 1\n",
        "                            [500299, 1, 1, 5000],   # Transaction 2\n",
        "                            [6000000, 1, 0, 2000]]) # Transaction 3\n",
        "\n",
        "\n",
        "# Scale the new transaction data using the same scaler as before\n",
        "new_transactions_scaled = scaler.transform(new_transactions)\n",
        "\n",
        "\n",
        "# Make predictions on the scaled new transactions\n",
        "new_predictions = model.predict(new_transactions_scaled)\n",
        "\n",
        "print(\"Predictions for new transactions:\", new_predictions)"
      ],
      "metadata": {
        "colab": {
          "base_uri": "https://localhost:8080/"
        },
        "id": "RA5YcJU--cml",
        "outputId": "1229d707-8ec8-4efb-80f5-099f829a6961"
      },
      "execution_count": 59,
      "outputs": [
        {
          "output_type": "stream",
          "name": "stdout",
          "text": [
            "Predictions for new transactions: [0 0 1]\n"
          ]
        },
        {
          "output_type": "stream",
          "name": "stderr",
          "text": [
            "/usr/local/lib/python3.10/dist-packages/sklearn/base.py:493: UserWarning: X does not have valid feature names, but StandardScaler was fitted with feature names\n",
            "  warnings.warn(\n"
          ]
        }
      ]
    },
    {
      "cell_type": "markdown",
      "source": [
        "Let's check the probability of the outcome"
      ],
      "metadata": {
        "id": "lCRGe5rFFKWc"
      }
    },
    {
      "cell_type": "code",
      "source": [
        "print(\"Probabilities for new transactions:\")\n",
        "print(model.predict_proba(new_transactions_scaled)[:,1])"
      ],
      "metadata": {
        "colab": {
          "base_uri": "https://localhost:8080/"
        },
        "id": "Lr14UZCCCRyb",
        "outputId": "60fa854a-ae7a-4fbb-99b5-693ce669e650"
      },
      "execution_count": 60,
      "outputs": [
        {
          "output_type": "stream",
          "name": "stdout",
          "text": [
            "Probabilities for new transactions:\n",
            "[0.00164831 0.21688481 0.97456785]\n"
          ]
        }
      ]
    },
    {
      "cell_type": "markdown",
      "source": [
        "We can see that the first transaction has the least chance of being fraud.\n",
        "\n",
        "The 2nd transaction has 21% of being fraud while the last transaction is 97% likely to be fraud"
      ],
      "metadata": {
        "id": "RgV491LpFhXy"
      }
    },
    {
      "cell_type": "markdown",
      "source": [
        "# **Conclusion**\n",
        "\n",
        "In this project, I have built a Logistic Regression model to predict credit card fraud using a synthetic financial dataset. The model achieved a test accuracy of approximately 85%, demonstrating its effectiveness in identifying potentially fraudulent transactions. Feature analysis revealed that 'amount', 'isMovement', and 'accountDiff' were the most influential predictors of fraud. Notably, higher transaction amounts and those involving cash-outs or transfers were associated with a greater likelihood of fraud.\n",
        "\n",
        "Wrap-up of Findings:\n",
        "\n",
        "Data Exploration: Exploratory data analysis (EDA) revealed that 'TRANSFER' and 'CASH_OUT' transactions typically involve larger amounts and exhibit a higher potential for fraud compared to other transaction types. The dataset was predominantly composed of 'CASH_OUT' transactions.\n",
        "\n",
        "Model Building: A Logistic Regression model was trained on scaled features, including 'amount', 'isPayment', 'isMovement', and 'accountDiff'. The model achieved a respectable training accuracy of 84%.\n",
        "\n",
        "Model Evaluation: Evaluation on the test set yielded an accuracy of approximately 85%, demonstrating the model's generalization ability.\n",
        "Feature Importance: Feature analysis highlighted 'amount' as the strongest predictor of fraud, followed by 'isMovement' and 'accountDiff'. 'isPayment' had the least impact on fraud prediction.\n",
        "\n",
        "Prediction on New Transactions: The model was used to predict the likelihood of fraud in three sample transactions, providing insights into its practical application.\n",
        "\n",
        "Limitations: The project utilized a synthetic dataset, which may not fully represent real-world fraud patterns. Further validation with real-world data is crucial. Additional features and alternative algorithms could potentially enhance model performance."
      ],
      "metadata": {
        "id": "_Kh58a9MGMjg"
      }
    },
    {
      "cell_type": "code",
      "source": [],
      "metadata": {
        "id": "PTEST_UGFTz6"
      },
      "execution_count": null,
      "outputs": []
    }
  ]
}